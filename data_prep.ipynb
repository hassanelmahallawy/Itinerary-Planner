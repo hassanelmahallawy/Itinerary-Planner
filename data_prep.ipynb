{
 "cells": [
  {
   "cell_type": "code",
   "execution_count": 1,
   "id": "5b71dba2",
   "metadata": {},
   "outputs": [],
   "source": [
    "import pandas as pd\n",
    "import matplotlib.pyplot as plt\n",
    "import seaborn as sns\n"
   ]
  },
  {
   "cell_type": "code",
   "execution_count": 2,
   "metadata": {},
   "outputs": [],
   "source": [
    "df = pd.read_csv(\"PlacesV2.csv\")"
   ]
  },
  {
   "cell_type": "code",
   "execution_count": 3,
   "id": "f8f7dfce",
   "metadata": {},
   "outputs": [],
   "source": [
    "selected_cities = [\"Alexandria\", \"Cairo\", \"Giza\", \"Aswan\", \"Luxor\"]"
   ]
  },
  {
   "cell_type": "code",
   "execution_count": 4,
   "id": "e2bf3b4f",
   "metadata": {},
   "outputs": [],
   "source": [
    "df_filtered = df[df[\"City\"].isin(selected_cities)]"
   ]
  },
  {
   "cell_type": "code",
   "execution_count": 5,
   "metadata": {},
   "outputs": [
    {
     "data": {
      "text/plain": [
       "place_id            179\n",
       "Name                179\n",
       "Category            179\n",
       "Google Maps Link    179\n",
       "City                179\n",
       "Rate                179\n",
       "Total Rates         179\n",
       "Description         179\n",
       "Tourism Type        179\n",
       "city_id             179\n",
       "Latitude            179\n",
       "Longitude           179\n",
       "dtype: int64"
      ]
     },
     "execution_count": 5,
     "metadata": {},
     "output_type": "execute_result"
    }
   ],
   "source": [
    "df_filtered.count()"
   ]
  },
  {
   "cell_type": "code",
   "execution_count": 6,
   "metadata": {},
   "outputs": [
    {
     "data": {
      "text/plain": [
       "25"
      ]
     },
     "execution_count": 6,
     "metadata": {},
     "output_type": "execute_result"
    }
   ],
   "source": [
    "len(df_filtered['Category'].unique())"
   ]
  },
  {
   "cell_type": "code",
   "execution_count": 7,
   "id": "9898a526",
   "metadata": {},
   "outputs": [
    {
     "data": {
      "text/plain": [
       "array(['Theme Park', 'Water Park', 'Zoo', 'Tower', 'Shopping', 'Garden',\n",
       "       'Natural Reserve', 'Island', 'Aquarium', 'Mosque', 'Church',\n",
       "       'Monastery', 'Synagogue', 'Museum', 'Hot Spring',\n",
       "       'Healing Oases & Sand Therapy', 'Rehabilitation & Wellness Center',\n",
       "       'Historical Site', 'Temple', 'Fortress', 'Library', 'Palace',\n",
       "       'Tomb', 'Theater', 'Cultural Center'], dtype=object)"
      ]
     },
     "execution_count": 7,
     "metadata": {},
     "output_type": "execute_result"
    }
   ],
   "source": [
    "df_filtered['Category'].unique()"
   ]
  },
  {
   "cell_type": "code",
   "execution_count": 8,
   "id": "a21bd056",
   "metadata": {},
   "outputs": [
    {
     "data": {
      "text/plain": [
       "5"
      ]
     },
     "execution_count": 8,
     "metadata": {},
     "output_type": "execute_result"
    }
   ],
   "source": [
    "len(df_filtered['Tourism Type'].unique())"
   ]
  },
  {
   "cell_type": "code",
   "execution_count": 9,
   "id": "c57e41ec",
   "metadata": {},
   "outputs": [
    {
     "data": {
      "text/plain": [
       "array(['Entertainment and Modern Attractions', 'Natural Attractions',\n",
       "       'Religious and Spiritual Attractions', 'Medical Attractions',\n",
       "       'Cultural and Historical Attractions'], dtype=object)"
      ]
     },
     "execution_count": 9,
     "metadata": {},
     "output_type": "execute_result"
    }
   ],
   "source": [
    "df_filtered['Tourism Type'].unique()"
   ]
  },
  {
   "cell_type": "code",
   "execution_count": 10,
   "id": "9afa1957",
   "metadata": {},
   "outputs": [
    {
     "data": {
      "text/plain": [
       "Index(['place_id', 'Name', 'Category', 'Google Maps Link', 'City', 'Rate',\n",
       "       'Total Rates', 'Description', 'Tourism Type', 'city_id', 'Latitude',\n",
       "       'Longitude'],\n",
       "      dtype='object')"
      ]
     },
     "execution_count": 10,
     "metadata": {},
     "output_type": "execute_result"
    }
   ],
   "source": [
    "df_filtered.columns"
   ]
  },
  {
   "cell_type": "code",
   "execution_count": 11,
   "id": "5959a9dd",
   "metadata": {},
   "outputs": [
    {
     "name": "stderr",
     "output_type": "stream",
     "text": [
      "C:\\Users\\hassa\\AppData\\Local\\Temp\\ipykernel_13688\\4167288688.py:1: SettingWithCopyWarning: \n",
      "A value is trying to be set on a copy of a slice from a DataFrame.\n",
      "Try using .loc[row_indexer,col_indexer] = value instead\n",
      "\n",
      "See the caveats in the documentation: https://pandas.pydata.org/pandas-docs/stable/user_guide/indexing.html#returning-a-view-versus-a-copy\n",
      "  df_filtered['Rate'] = df_filtered['Rate'].astype(float)\n"
     ]
    }
   ],
   "source": [
    "df_filtered['Rate'] = df_filtered['Rate'].astype(float)  "
   ]
  },
  {
   "cell_type": "code",
   "execution_count": 12,
   "id": "80c03eab",
   "metadata": {},
   "outputs": [
    {
     "name": "stderr",
     "output_type": "stream",
     "text": [
      "C:\\Users\\hassa\\AppData\\Local\\Temp\\ipykernel_13688\\1743806416.py:1: SettingWithCopyWarning: \n",
      "A value is trying to be set on a copy of a slice from a DataFrame.\n",
      "Try using .loc[row_indexer,col_indexer] = value instead\n",
      "\n",
      "See the caveats in the documentation: https://pandas.pydata.org/pandas-docs/stable/user_guide/indexing.html#returning-a-view-versus-a-copy\n",
      "  df_filtered['Total Rates'] = df_filtered['Total Rates'].astype(str).str.replace(',', '').astype(float)\n"
     ]
    }
   ],
   "source": [
    "df_filtered['Total Rates'] = df_filtered['Total Rates'].astype(str).str.replace(',', '').astype(float)\n"
   ]
  },
  {
   "cell_type": "code",
   "execution_count": 13,
   "id": "7df029fc",
   "metadata": {},
   "outputs": [
    {
     "data": {
      "text/plain": [
       "dtype('float64')"
      ]
     },
     "execution_count": 13,
     "metadata": {},
     "output_type": "execute_result"
    }
   ],
   "source": [
    "df_filtered['Total Rates'].dtype"
   ]
  },
  {
   "cell_type": "code",
   "execution_count": 14,
   "id": "7ace34d3",
   "metadata": {},
   "outputs": [
    {
     "name": "stderr",
     "output_type": "stream",
     "text": [
      "C:\\Users\\hassa\\AppData\\Local\\Temp\\ipykernel_13688\\4257033064.py:1: SettingWithCopyWarning: \n",
      "A value is trying to be set on a copy of a slice from a DataFrame.\n",
      "Try using .loc[row_indexer,col_indexer] = value instead\n",
      "\n",
      "See the caveats in the documentation: https://pandas.pydata.org/pandas-docs/stable/user_guide/indexing.html#returning-a-view-versus-a-copy\n",
      "  df_filtered['Popularity'] = df_filtered['Rate'] * df_filtered['Total Rates']\n"
     ]
    }
   ],
   "source": [
    "df_filtered['Popularity'] = df_filtered['Rate'] * df_filtered['Total Rates']"
   ]
  },
  {
   "cell_type": "code",
   "execution_count": 15,
   "id": "026f8d48",
   "metadata": {},
   "outputs": [
    {
     "data": {
      "image/png": "[encoded data removed]",
      "text/plain": [
       "<Figure size 800x600 with 1 Axes>"
      ]
     },
     "metadata": {},
     "output_type": "display_data"
    }
   ],
   "source": [
    "\n",
    "plt.figure(figsize=(8, 6))\n",
    "sns.boxplot(data=df_filtered, y='Total Rates')\n",
    "\n",
    "# Add title and labels\n",
    "plt.title('Boxplot of Popularity Scores')\n",
    "plt.ylabel('Popularity')\n",
    "\n",
    "# Show plot\n",
    "plt.show()\n"
   ]
  },
  {
   "cell_type": "code",
   "execution_count": 16,
   "id": "19cab911",
   "metadata": {},
   "outputs": [],
   "source": [
    "def categorize_popularity(x):\n",
    "    if x < 10000:\n",
    "        return 'Low'\n",
    "    elif x > 10000 and x < 30000:\n",
    "        return 'Medium'\n",
    "    else:\n",
    "        return 'High'\n",
    "    "
   ]
  },
  {
   "cell_type": "code",
   "execution_count": 17,
   "id": "df8ba3ef",
   "metadata": {},
   "outputs": [
    {
     "name": "stderr",
     "output_type": "stream",
     "text": [
      "C:\\Users\\hassa\\AppData\\Local\\Temp\\ipykernel_13688\\2956548520.py:1: SettingWithCopyWarning: \n",
      "A value is trying to be set on a copy of a slice from a DataFrame.\n",
      "Try using .loc[row_indexer,col_indexer] = value instead\n",
      "\n",
      "See the caveats in the documentation: https://pandas.pydata.org/pandas-docs/stable/user_guide/indexing.html#returning-a-view-versus-a-copy\n",
      "  df_filtered['popularity_category'] = df_filtered['Popularity'].apply(categorize_popularity)\n"
     ]
    }
   ],
   "source": [
    "df_filtered['popularity_category'] = df_filtered['Popularity'].apply(categorize_popularity)\n"
   ]
  },
  {
   "cell_type": "code",
   "execution_count": 18,
   "id": "3ac1958c",
   "metadata": {},
   "outputs": [
    {
     "data": {
      "text/html": [
       "<div>\n",
       "<style scoped>\n",
       "    .dataframe tbody tr th:only-of-type {\n",
       "        vertical-align: middle;\n",
       "    }\n",
       "\n",
       "    .dataframe tbody tr th {\n",
       "        vertical-align: top;\n",
       "    }\n",
       "\n",
       "    .dataframe thead th {\n",
       "        text-align: right;\n",
       "    }\n",
       "</style>\n",
       "<table border=\"1\" class=\"dataframe\">\n",
       "  <thead>\n",
       "    <tr style=\"text-align: right;\">\n",
       "      <th></th>\n",
       "      <th>place_id</th>\n",
       "      <th>Name</th>\n",
       "      <th>Category</th>\n",
       "      <th>Google Maps Link</th>\n",
       "      <th>City</th>\n",
       "      <th>Rate</th>\n",
       "      <th>Total Rates</th>\n",
       "      <th>Description</th>\n",
       "      <th>Tourism Type</th>\n",
       "      <th>city_id</th>\n",
       "      <th>Latitude</th>\n",
       "      <th>Longitude</th>\n",
       "      <th>Popularity</th>\n",
       "      <th>popularity_category</th>\n",
       "    </tr>\n",
       "  </thead>\n",
       "  <tbody>\n",
       "    <tr>\n",
       "      <th>1</th>\n",
       "      <td>2</td>\n",
       "      <td>Magic Land</td>\n",
       "      <td>Theme Park</td>\n",
       "      <td>https://maps.app.goo.gl/pagQ93SuUb5smLFT7</td>\n",
       "      <td>Giza</td>\n",
       "      <td>4.1</td>\n",
       "      <td>100.0</td>\n",
       "      <td>Magic Land is a fantastic theme park that offe...</td>\n",
       "      <td>Entertainment and Modern Attractions</td>\n",
       "      <td>0</td>\n",
       "      <td>29.963340</td>\n",
       "      <td>31.024918</td>\n",
       "      <td>410.0</td>\n",
       "      <td>Low</td>\n",
       "    </tr>\n",
       "    <tr>\n",
       "      <th>2</th>\n",
       "      <td>3</td>\n",
       "      <td>Sindbad Amusement Park</td>\n",
       "      <td>Theme Park</td>\n",
       "      <td>https://maps.app.goo.gl/Y2oiuubB3HZFshM69</td>\n",
       "      <td>Cairo</td>\n",
       "      <td>3.1</td>\n",
       "      <td>67.0</td>\n",
       "      <td>Sindbad Amusement Park is a fantastic destinat...</td>\n",
       "      <td>Entertainment and Modern Attractions</td>\n",
       "      <td>1</td>\n",
       "      <td>30.119268</td>\n",
       "      <td>31.368494</td>\n",
       "      <td>207.7</td>\n",
       "      <td>Low</td>\n",
       "    </tr>\n",
       "  </tbody>\n",
       "</table>\n",
       "</div>"
      ],
      "text/plain": [
       "   place_id                    Name    Category  \\\n",
       "1         2              Magic Land  Theme Park   \n",
       "2         3  Sindbad Amusement Park  Theme Park   \n",
       "\n",
       "                            Google Maps Link   City  Rate  Total Rates  \\\n",
       "1  https://maps.app.goo.gl/pagQ93SuUb5smLFT7   Giza   4.1        100.0   \n",
       "2  https://maps.app.goo.gl/Y2oiuubB3HZFshM69  Cairo   3.1         67.0   \n",
       "\n",
       "                                         Description  \\\n",
       "1  Magic Land is a fantastic theme park that offe...   \n",
       "2  Sindbad Amusement Park is a fantastic destinat...   \n",
       "\n",
       "                           Tourism Type  city_id   Latitude  Longitude  \\\n",
       "1  Entertainment and Modern Attractions        0  29.963340  31.024918   \n",
       "2  Entertainment and Modern Attractions        1  30.119268  31.368494   \n",
       "\n",
       "   Popularity popularity_category  \n",
       "1       410.0                 Low  \n",
       "2       207.7                 Low  "
      ]
     },
     "execution_count": 18,
     "metadata": {},
     "output_type": "execute_result"
    }
   ],
   "source": [
    "df_filtered[df_filtered['popularity_category']=='Low'].head(2)"
   ]
  },
  {
   "cell_type": "code",
   "execution_count": 19,
   "id": "dc238e32",
   "metadata": {},
   "outputs": [
    {
     "data": {
      "text/plain": [
       "array([ 0,  1,  5, 17, 18], dtype=int64)"
      ]
     },
     "execution_count": 19,
     "metadata": {},
     "output_type": "execute_result"
    }
   ],
   "source": [
    "df_filtered['city_id'].unique()"
   ]
  },
  {
   "cell_type": "code",
   "execution_count": 20,
   "id": "5bfbcfa0",
   "metadata": {},
   "outputs": [],
   "source": [
    "# budget_mapping = {\n",
    "#     ('Theme Park', 'Entertainment and Modern Attractions'): ['High', 'Medium'],\n",
    "#     ('Water Park', 'Entertainment and Modern Attractions'): ['High', 'Medium'],\n",
    "#     ('Zoo', 'Entertainment and Modern Attractions'): ['Low', 'Medium'],\n",
    "#     ('Tower', 'Entertainment and Modern Attractions'): ['Medium'],\n",
    "#     ('Shopping', 'Entertainment and Modern Attractions'): ['Medium', 'High'],\n",
    "#     ('Garden', 'Natural Attractions'): ['Low'],\n",
    "#     ('Natural Reserve', 'Natural Attractions'): ['Medium', 'High'],\n",
    "#     ('Island', 'Natural Attractions'): ['High'],\n",
    "#     ('Aquarium', 'Natural Attractions'): ['Medium', 'Low'],\n",
    "#     ('Mosque', 'Religious and Spiritual Attractions'): ['Low'],\n",
    "#     ('Church', 'Religious and Spiritual Attractions'): ['Low'],\n",
    "#     ('Monastery', 'Religious and Spiritual Attractions'): ['Low'],\n",
    "#     ('Synagogue', 'Religious and Spiritual Attractions'): ['Low'],\n",
    "#     ('Museum', 'Cultural and Historical Attractions'): ['Medium'],\n",
    "#     ('Hot Spring', 'Medical Attractions'): ['Medium', 'High'],\n",
    "#     ('Healing Oases & Sand Therapy', 'Medical Attractions'): ['Low', 'Medium'],\n",
    "#     ('Rehabilitation & Wellness Center', 'Medical Attractions'): ['Low', 'Medium'],\n",
    "#     ('Historical Site', 'Cultural and Historical Attractions'): ['Medium', 'High'],\n",
    "#     ('Temple', 'Cultural and Historical Attractions'): ['Medium'],\n",
    "#     ('Fortress', 'Cultural and Historical Attractions'): ['High'],\n",
    "#     ('Library', 'Cultural and Historical Attractions'): ['Low'],\n",
    "#     ('Palace', 'Cultural and Historical Attractions'): ['High'],\n",
    "#     ('Tomb', 'Cultural and Historical Attractions'): ['Low'],\n",
    "#     ('Theater', 'Entertainment and Modern Attractions'): ['Medium'],\n",
    "#     ('Cultural Center', 'Cultural and Historical Attractions'): ['Medium', 'High']\n",
    "# }"
   ]
  },
  {
   "cell_type": "code",
   "execution_count": 21,
   "id": "9d06e382",
   "metadata": {},
   "outputs": [],
   "source": [
    "# def assign_budget(row):\n",
    "#     return budget_mapping.get((row['Category'], row['Tourism Type']), ['Medium'])  # Default to 'Medium' if not found"
   ]
  },
  {
   "cell_type": "code",
   "execution_count": 22,
   "id": "0b557d4f",
   "metadata": {},
   "outputs": [],
   "source": [
    "# df_filtered['budget'] = df_filtered.apply(assign_budget, axis=1)"
   ]
  },
  {
   "cell_type": "code",
   "execution_count": 23,
   "id": "edb06679",
   "metadata": {},
   "outputs": [
    {
     "data": {
      "text/plain": [
       "Index(['place_id', 'Name', 'Category', 'Google Maps Link', 'City', 'Rate',\n",
       "       'Total Rates', 'Description', 'Tourism Type', 'city_id', 'Latitude',\n",
       "       'Longitude', 'Popularity', 'popularity_category'],\n",
       "      dtype='object')"
      ]
     },
     "execution_count": 23,
     "metadata": {},
     "output_type": "execute_result"
    }
   ],
   "source": [
    "df_filtered.columns"
   ]
  },
  {
   "cell_type": "code",
   "execution_count": 24,
   "id": "ac8a5a54",
   "metadata": {},
   "outputs": [
    {
     "name": "stdout",
     "output_type": "stream",
     "text": [
      "     place_id                              Name         Category  \\\n",
      "0           1                        Dream Park       Theme Park   \n",
      "1           2                        Magic Land       Theme Park   \n",
      "2           3            Sindbad Amusement Park       Theme Park   \n",
      "3           4                          Zed Park       Theme Park   \n",
      "4           5                       Family Park       Theme Park   \n",
      "..        ...                               ...              ...   \n",
      "315     20000         Oyun Musa (Moses Springs)       Hot Spring   \n",
      "316     20001                 Al-Ghareeb Mosque           Mosque   \n",
      "317     20002  Suez Corniche & Ahl Suez Walkway            Beach   \n",
      "318     20003                    Meidum Pyramid  Historical Site   \n",
      "319     20004   Museum of Tal Basta Antiquities           Museum   \n",
      "\n",
      "                              Google Maps Link       City  Rate Total Rates  \\\n",
      "0    https://maps.app.goo.gl/HKuc4iMGP3xxkuzT7       Giza   4.2      25,565   \n",
      "1    https://maps.app.goo.gl/pagQ93SuUb5smLFT7       Giza   4.1         100   \n",
      "2    https://maps.app.goo.gl/Y2oiuubB3HZFshM69      Cairo   3.1          67   \n",
      "3    https://maps.app.goo.gl/2Ya6VcWJUCakgbgy6       Giza   4.2       3,337   \n",
      "4    https://maps.app.goo.gl/zkstQZsVx3x32cES8      Cairo   4.4      24,568   \n",
      "..                                         ...        ...   ...         ...   \n",
      "315  https://maps.app.goo.gl/C3S3iKNjkAg1v8E16       Suez   4.1          47   \n",
      "316  https://maps.app.goo.gl/ZWvWvZcVN5xnf8SY6       Suez   4.7         167   \n",
      "317  https://maps.app.goo.gl/7HfhUQ89XdEMx8Pw5       Suez   4.6          64   \n",
      "318  https://maps.app.goo.gl/d1g79qZTerx4RTqZ9  Beni Suef   4.6         738   \n",
      "319  https://maps.app.goo.gl/7oxbMXteXJXb2TcT6    Sharqia   4.2         420   \n",
      "\n",
      "                                           Description  \\\n",
      "0    If you're looking for a place filled with exci...   \n",
      "1    Magic Land is a fantastic theme park that offe...   \n",
      "2    Sindbad Amusement Park is a fantastic destinat...   \n",
      "3    Zed Park is one of Egypts most modern and vibr...   \n",
      "4    Family Park is a unique amusement and recreati...   \n",
      "..                                                 ...   \n",
      "315  Oyun Musa, or Moses Springs, is a collection o...   \n",
      "316  Al-Ghareeb Mosque is one of the most significa...   \n",
      "317  Suez Corniche & Ahl Suez Walkway is a scenic w...   \n",
      "318  The Meidum Pyramid, located in Beni Suef, Egyp...   \n",
      "319  The Museum of Tal Basta Antiquities, located i...   \n",
      "\n",
      "                             Tourism Type  city_id   Latitude  Longitude  \n",
      "0    Entertainment and Modern Attractions        0  29.966006  31.058090  \n",
      "1    Entertainment and Modern Attractions        0  29.963340  31.024918  \n",
      "2    Entertainment and Modern Attractions        1  30.119268  31.368494  \n",
      "3    Entertainment and Modern Attractions        0  30.043229  30.994429  \n",
      "4    Entertainment and Modern Attractions        1  30.087279  31.518893  \n",
      "..                                    ...      ...        ...        ...  \n",
      "315                   Medical Attractions       14  29.866666  32.650000  \n",
      "316   Religious and Spiritual Attractions       14  29.966479  32.253792  \n",
      "317  Entertainment and Modern Attractions       14  29.955383  32.544669  \n",
      "318   Cultural and Historical Attractions        7  29.388426  31.157434  \n",
      "319                                   NaN       26  30.573352  31.512912  \n",
      "\n",
      "[320 rows x 12 columns]\n"
     ]
    }
   ],
   "source": [
    "df_filtered = df_filtered.drop(columns=['Google Maps Link', 'Rate','Total Rates','Popularity'])\n",
    "\n",
    "\n",
    "# Display the DataFrame after removing columns\n",
    "print(df)\n"
   ]
  },
  {
   "cell_type": "code",
   "execution_count": 25,
   "id": "9e964622",
   "metadata": {},
   "outputs": [],
   "source": [
    "# with_who_mapping = {\n",
    "#     ('Theme Park', 'Entertainment and Modern Attractions'): ['Friends', 'Family'],\n",
    "#     ('Water Park', 'Entertainment and Modern Attractions'): ['Friends', 'Family'],\n",
    "#     ('Zoo', 'Natural Attractions'): ['Family', 'Solo'],\n",
    "#     ('Tower', 'Entertainment and Modern Attractions'): ['Couple', 'Solo'],\n",
    "#     ('Shopping', 'Entertainment and Modern Attractions'): ['Friends', 'Couple'],\n",
    "#     ('Garden', 'Natural Attractions'): ['Couple', 'Family'],\n",
    "#     ('Natural Reserve', 'Natural Attractions'): ['Solo', 'Family'],\n",
    "#     ('Island', 'Natural Attractions'): ['Couple', 'Family'],\n",
    "#     ('Aquarium', 'Natural Attractions'): ['Friends', 'Family'],\n",
    "#     ('Mosque', 'Religious and Spiritual Attractions'): ['Solo', 'Family'],\n",
    "#     ('Church', 'Religious and Spiritual Attractions'): ['Couple', 'Family'],\n",
    "#     ('Monastery', 'Religious and Spiritual Attractions'): ['Solo'],\n",
    "#     ('Synagogue', 'Religious and Spiritual Attractions'): ['Solo'],\n",
    "#     ('Museum', 'Cultural and Historical Attractions'): ['Solo', 'Couple'],\n",
    "#     ('Hot Spring', 'Medical Attractions'): ['Couple', 'Solo'],\n",
    "#     ('Healing Oases & Sand Therapy', 'Medical Attractions'): ['Solo', 'Couple'],\n",
    "#     ('Rehabilitation & Wellness Center', 'Medical Attractions'): ['Solo'],\n",
    "#     ('Historical Site', 'Cultural and Historical Attractions'): ['Solo', 'Family', 'Couple'],\n",
    "#     ('Temple', 'Cultural and Historical Attractions'): ['Solo', 'Couple'],\n",
    "#     ('Fortress', 'Cultural and Historical Attractions'): ['Solo', 'Family'],\n",
    "#     ('Library', 'Cultural and Historical Attractions'): ['Solo'],\n",
    "#     ('Palace', 'Cultural and Historical Attractions'): ['Couple', 'Solo'],\n",
    "#     ('Tomb', 'Cultural and Historical Attractions'): ['Solo'],\n",
    "#     ('Theater', 'Entertainment and Modern Attractions'): ['Friends', 'Couple'],\n",
    "#     ('Cultural Center', 'Cultural and Historical Attractions'): ['Solo', 'Couple']\n",
    "# }"
   ]
  },
  {
   "cell_type": "code",
   "execution_count": 26,
   "id": "25751f03",
   "metadata": {},
   "outputs": [],
   "source": [
    "# def assign_with_who(row):\n",
    "#     return with_who_mapping.get((row['Category'], row['Tourism Type']), ['Solo'])  # Default to ['Solo']\n",
    "\n",
    "# # Apply the function to the DataFrame\n",
    "# df_filtered['with_who'] = df_filtered.apply(assign_with_who, axis=1)"
   ]
  },
  {
   "cell_type": "code",
   "execution_count": 27,
   "id": "b6e81c06",
   "metadata": {},
   "outputs": [],
   "source": [
    "category_mapping = {\n",
    "    \"Theme Park\": {\n",
    "        \"budget\": [\"medium\", \"high\"],\n",
    "        \"with_who\": [\"Family\", \"Friends\", \"Couple\"]\n",
    "    },\n",
    "    \"Water Park\": {\n",
    "        \"budget\": [\"medium\", \"high\"],\n",
    "        \"with_who\": [\"Family\", \"Friends\"]\n",
    "    },\n",
    "    \"Zoo\": {\n",
    "        \"budget\": [\"medium\"],\n",
    "        \"with_who\": [\"Family\", \"Friends\"]\n",
    "    },\n",
    "    \"Tower\": {\n",
    "        \"budget\": [\"medium\"],\n",
    "        \"with_who\": [\"Solo\", \"Couple\", \"Friends\"]\n",
    "    },\n",
    "    \"Shopping\": {\n",
    "        \"budget\": [\"low\", \"medium\", \"high\"],\n",
    "        \"with_who\": [\"Solo\", \"Friends\", \"Couple\", \"Family\"]\n",
    "    },\n",
    "    \"Garden\": {\n",
    "        \"budget\": [\"low\", \"medium\"],\n",
    "        \"with_who\": [\"Solo\", \"Family\", \"Couple\"]\n",
    "    },\n",
    "    \"Natural Reserve\": {\n",
    "        \"budget\": [\"low\", \"medium\"],\n",
    "        \"with_who\": [\"Solo\", \"Friends\", \"Family\"]\n",
    "    },\n",
    "    \"Island\": {\n",
    "        \"budget\": [\"medium\", \"high\"],\n",
    "        \"with_who\": [\"Couple\", \"Friends\", \"Solo\"]\n",
    "    },\n",
    "    \"Aquarium\": {\n",
    "        \"budget\": [\"medium\"],\n",
    "        \"with_who\": [\"Family\", \"Friends\"]\n",
    "    },\n",
    "    \"Mosque\": {\n",
    "        \"budget\": [\"low\"],\n",
    "        \"with_who\": [\"Solo\", \"Family\"]\n",
    "    },\n",
    "    \"Church\": {\n",
    "        \"budget\": [\"low\"],\n",
    "        \"with_who\": [\"Solo\", \"Family\"]\n",
    "    },\n",
    "    \"Monastery\": {\n",
    "        \"budget\": [\"low\"],\n",
    "        \"with_who\": [\"Solo\", \"Family\"]\n",
    "    },\n",
    "    \"Synagogue\": {\n",
    "        \"budget\": [\"low\"],\n",
    "        \"with_who\": [\"Solo\"]\n",
    "    },\n",
    "    \"Museum\": {\n",
    "        \"budget\": [\"low\", \"medium\"],\n",
    "        \"with_who\": [\"Solo\", \"Couple\", \"Friends\"]\n",
    "    },\n",
    "    \"Hot Spring\": {\n",
    "        \"budget\": [\"medium\", \"high\"],\n",
    "        \"with_who\": [\"Solo\", \"Couple\"]\n",
    "    },\n",
    "    \"Healing Oases & Sand Therapy\": {\n",
    "        \"budget\": [\"high\"],\n",
    "        \"with_who\": [\"Solo\", \"Couple\"]\n",
    "    },\n",
    "    \"Rehabilitation & Wellness Center\": {\n",
    "        \"budget\": [\"high\"],\n",
    "        \"with_who\": [\"Solo\", \"Couple\"]\n",
    "    },\n",
    "    \"Historical Site\": {\n",
    "        \"budget\": [\"low\", \"medium\"],\n",
    "        \"with_who\": [\"Solo\", \"Couple\", \"Friends\"]\n",
    "    },\n",
    "    \"Temple\": {\n",
    "        \"budget\": [\"medium\"],\n",
    "        \"with_who\": [\"Solo\", \"Friends\", \"Couple\"]\n",
    "    },\n",
    "    \"Fortress\": {\n",
    "        \"budget\": [\"low\", \"medium\"],\n",
    "        \"with_who\": [\"Solo\", \"Friends\"]\n",
    "    },\n",
    "    \"Library\": {\n",
    "        \"budget\": [\"low\"],\n",
    "        \"with_who\": [\"Solo\", \"Couple\"]\n",
    "    },\n",
    "    \"Palace\": {\n",
    "        \"budget\": [\"medium\"],\n",
    "        \"with_who\": [\"Couple\", \"Family\"]\n",
    "    },\n",
    "    \"Tomb\": {\n",
    "        \"budget\": [\"low\", \"medium\"],\n",
    "        \"with_who\": [\"Solo\", \"Friends\"]\n",
    "    },\n",
    "    \"Theater\": {\n",
    "        \"budget\": [\"medium\"],\n",
    "        \"with_who\": [\"Couple\", \"Friends\"]\n",
    "    },\n",
    "    \"Cultural Center\": {\n",
    "        \"budget\": [\"low\", \"medium\"],\n",
    "        \"with_who\": [\"Solo\", \"Couple\", \"Friends\"]\n",
    "    }\n",
    "}\n"
   ]
  },
  {
   "cell_type": "code",
   "execution_count": 28,
   "id": "29d8291a",
   "metadata": {},
   "outputs": [
    {
     "data": {
      "text/plain": [
       "Index(['place_id', 'Name', 'Category', 'City', 'Description', 'Tourism Type',\n",
       "       'city_id', 'Latitude', 'Longitude', 'popularity_category'],\n",
       "      dtype='object')"
      ]
     },
     "execution_count": 28,
     "metadata": {},
     "output_type": "execute_result"
    }
   ],
   "source": [
    "df_filtered.columns"
   ]
  },
  {
   "cell_type": "code",
   "execution_count": 29,
   "id": "52ae2f6d",
   "metadata": {},
   "outputs": [],
   "source": [
    "# Create two new columns based on the mapping\n",
    "df_filtered[\"budget\"] = df_filtered[\"Category\"].map(lambda x: \", \".join(category_mapping[x][\"budget\"]))\n",
    "df_filtered[\"with_who\"] = df_filtered[\"Category\"].map(lambda x: \", \".join(category_mapping[x][\"with_who\"]))\n"
   ]
  },
  {
   "cell_type": "code",
   "execution_count": null,
   "id": "6cfeeb81",
   "metadata": {},
   "outputs": [],
   "source": []
  },
  {
   "cell_type": "code",
   "execution_count": null,
   "id": "7305fd32",
   "metadata": {},
   "outputs": [],
   "source": []
  },
  {
   "cell_type": "code",
   "execution_count": 30,
   "id": "a12777d5",
   "metadata": {},
   "outputs": [
    {
     "data": {
      "text/plain": [
       "Index(['place_id', 'Name', 'Category', 'City', 'Description', 'Tourism Type',\n",
       "       'city_id', 'Latitude', 'Longitude', 'popularity_category', 'budget',\n",
       "       'with_who'],\n",
       "      dtype='object')"
      ]
     },
     "execution_count": 30,
     "metadata": {},
     "output_type": "execute_result"
    }
   ],
   "source": [
    "df_filtered.columns"
   ]
  },
  {
   "cell_type": "code",
   "execution_count": 31,
   "id": "9b067bb2",
   "metadata": {},
   "outputs": [],
   "source": [
    "# Rename the columns to match your desired naming convention\n",
    "df_latest = df_filtered.rename(columns={\n",
    "    'Name': 'name',\n",
    "    'City': 'city',\n",
    "    'Description': 'description',\n",
    "    'Category': 'category',\n",
    "    'Tourism Type': 'tourism_type',\n",
    "    'Latitude': 'latitude',\n",
    "    'Longitude': 'longitude'\n",
    "})\n",
    "\n",
    "# Reorder the columns\n",
    "df_filtered = df_latest[[\n",
    "    'place_id', 'name', 'city', 'city_id', 'description', 'category', \n",
    "    'tourism_type', 'popularity_category', 'budget', 'with_who', \n",
    "    'latitude', 'longitude'\n",
    "]]\n"
   ]
  },
  {
   "cell_type": "code",
   "execution_count": 33,
   "id": "412c79d1",
   "metadata": {},
   "outputs": [],
   "source": [
    "df_filtered.to_csv('places.csv', index=False)\n"
   ]
  },
  {
   "cell_type": "code",
   "execution_count": 34,
   "id": "8467d1c2",
   "metadata": {},
   "outputs": [],
   "source": [
    "# Group by the 'city' column and export each group to a separate CSV\n",
    "for city, group in df_filtered.groupby('city'):\n",
    "    # Sanitize the city name to be file-safe (remove slashes, spaces, etc.)\n",
    "    safe_city = city.replace(\" \", \"_\").replace(\"/\", \"_\")\n",
    "    filename = f\"{safe_city.lower()}_places.csv\"\n",
    "    group.to_csv(filename, index=False)\n"
   ]
  },
  {
   "cell_type": "code",
   "execution_count": 4,
   "id": "362b51d1",
   "metadata": {},
   "outputs": [
    {
     "data": {
      "text/plain": [
       "(96, 3)"
      ]
     },
     "execution_count": 4,
     "metadata": {},
     "output_type": "execute_result"
    }
   ],
   "source": [
    "import pandas as pd\n",
    "df = pd.read_csv(\"ml.csv\")\n",
    "df.shape\n"
   ]
  },
  {
   "cell_type": "code",
   "execution_count": 10,
   "id": "1436bd80",
   "metadata": {},
   "outputs": [],
   "source": [
    "df = df.drop_duplicates()"
   ]
  },
  {
   "cell_type": "code",
   "execution_count": 11,
   "id": "259f6c2d",
   "metadata": {},
   "outputs": [
    {
     "data": {
      "text/plain": [
       "(55, 2)"
      ]
     },
     "execution_count": 11,
     "metadata": {},
     "output_type": "execute_result"
    }
   ],
   "source": [
    "df.shape"
   ]
  },
  {
   "cell_type": "code",
   "execution_count": 7,
   "id": "b572d154",
   "metadata": {},
   "outputs": [],
   "source": [
    "df.to_csv('ml2.csv', index=False)\n"
   ]
  },
  {
   "cell_type": "code",
   "execution_count": 8,
   "id": "7c60783b",
   "metadata": {},
   "outputs": [],
   "source": [
    "df = pd.read_csv(\"Itienrary Planner/Updated_Plans.csv\")\n"
   ]
  },
  {
   "cell_type": "code",
   "execution_count": 9,
   "id": "3a09507b",
   "metadata": {},
   "outputs": [
    {
     "data": {
      "text/plain": [
       "(60, 2)"
      ]
     },
     "execution_count": 9,
     "metadata": {},
     "output_type": "execute_result"
    }
   ],
   "source": [
    "df.shape"
   ]
  },
  {
   "cell_type": "code",
   "execution_count": 12,
   "id": "761a2224",
   "metadata": {},
   "outputs": [],
   "source": [
    "df.to_csv('ml3.csv', index=False)\n"
   ]
  }
 ],
 "metadata": {
  "kernelspec": {
   "display_name": "Python 3",
   "language": "python",
   "name": "python3"
  },
  "language_info": {
   "codemirror_mode": {
    "name": "ipython",
    "version": 3
   },
   "file_extension": ".py",
   "mimetype": "text/x-python",
   "name": "python",
   "nbconvert_exporter": "python",
   "pygments_lexer": "ipython3",
   "version": "3.11.5"
  }
 },
 "nbformat": 4,
 "nbformat_minor": 5
}
